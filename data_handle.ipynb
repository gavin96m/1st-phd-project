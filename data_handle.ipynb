{
 "cells": [
  {
   "cell_type": "code",
   "execution_count": 2,
   "id": "ac14332b-68f7-4586-bf51-09cd02be083c",
   "metadata": {},
   "outputs": [
    {
     "data": {
      "text/plain": [
       "array([[29.03826179,  3.88696108,  0.93189377, 14.69331688,  0.40503613,\n",
       "         0.30920791,  1.21971565],\n",
       "       [54.95302721,  2.02727464,  0.85127559, 19.40564531,  1.00521496,\n",
       "         1.89308441,  1.26134618],\n",
       "       [ 8.08699657,  1.67134396,  0.83478328, 17.83689669,  0.59947075,\n",
       "         0.78829184,  1.18719324],\n",
       "       [84.89488312,  3.45786336,  0.84952332, 18.45729785,  0.84550258,\n",
       "         0.35813699,  1.33523856],\n",
       "       [27.55769618,  5.47663666,  0.87258155, 21.96307525,  0.88351588,\n",
       "         0.64035527,  1.33186086]])"
      ]
     },
     "execution_count": 2,
     "metadata": {},
     "output_type": "execute_result"
    }
   ],
   "source": [
    "import numpy as np\n",
    "import csv\n",
    "import math\n",
    "from scipy import integrate\n",
    "from scipy.integrate import dblquad\n",
    "from scipy.integrate import nquad\n",
    "\n",
    "with open(\"./output.csv\",\"r\") as file:\n",
    "    reader = csv.reader(file)\n",
    "    data = [row for row in reader]\n",
    "    del data[0]\n",
    "\n",
    "    \n",
    "data = np.array([[np.fromstring(row[0][1:-1], sep=' '), np.fromstring(row[1][1:-1], sep=' ')] for row in data], dtype=np.ndarray)\n",
    "\n",
    "n = len(data)\n",
    "# array1: init\n",
    "# array2: next\n",
    "init_data = data[:,0].astype(float)\n",
    "next_data = data[:,1].astype(float)\n",
    "\n",
    "\n",
    "init_data[:5]\n",
    "\n",
    "\n"
   ]
  },
  {
   "cell_type": "code",
   "execution_count": 3,
   "id": "16b9c48e-ca27-42d1-ba78-ea21cfffe30c",
   "metadata": {},
   "outputs": [
    {
     "data": {
      "text/plain": [
       "(array([23.79891679,  1.69062488,  0.11783135,  2.67007887,  0.30065055,\n",
       "         0.46408763,  0.06030478]),\n",
       " array([23.75357656,  1.71972549,  0.11783135,  2.67007886,  0.30046535,\n",
       "         0.70858364,  0.03825582]))"
      ]
     },
     "execution_count": 3,
     "metadata": {},
     "output_type": "execute_result"
    }
   ],
   "source": [
    "# calc std\n",
    "std_init = np.std(init_data,axis=0,ddof=1)\n",
    "# std_total_init = np.std(init_data,axis=0)\n",
    "\n",
    "std_next = np.std(next_data,axis=0,ddof=1)\n",
    "\n",
    "std_init,std_next"
   ]
  },
  {
   "cell_type": "markdown",
   "id": "78722941-8f81-47a7-8e4c-6fcba24b3769",
   "metadata": {},
   "source": [
    "$h_{init} = \\left(\\frac{4}{3n}\\right)^{\\frac{1}{5}}\\cdot std_{init}$"
   ]
  },
  {
   "cell_type": "markdown",
   "id": "ec38ad67-1e9d-4a14-8674-174575ad9b40",
   "metadata": {},
   "source": [
    "## need to check"
   ]
  },
  {
   "cell_type": "markdown",
   "id": "4200d448-35d7-460a-94ee-b2858663f2da",
   "metadata": {},
   "source": [
    "$h = Cn^{-\\frac{1}{d+4}}(\\det(\\Sigma))^{\\frac{1}{2}}$ \n",
    "in book"
   ]
  },
  {
   "cell_type": "markdown",
   "id": "d653ef16-a151-4de2-a219-8a77824d01e4",
   "metadata": {},
   "source": [
    "$h = Cn^{-\\frac{1}{d+4}}(\\det(\\Sigma))^{\\frac{1}{d+4}}$"
   ]
  },
  {
   "cell_type": "code",
   "execution_count": 21,
   "id": "7d198794-9058-4e77-baba-f3ffa7515469",
   "metadata": {},
   "outputs": [
    {
     "data": {
      "text/plain": [
       "(array([10.03563686,  0.71291049,  0.04968767,  1.12593116,  0.12677971,\n",
       "         0.19569861,  0.0254296 ]),\n",
       " array([10.01651758,  0.72518177,  0.04968767,  1.12593115,  0.12670161,\n",
       "         0.29879881,  0.01613189]))"
      ]
     },
     "execution_count": 21,
     "metadata": {},
     "output_type": "execute_result"
    }
   ],
   "source": [
    "# scott's rule\n",
    "# Nonparametric and Semiparametric Models, by Wolfgang p104\n",
    "h_init = (4/3/n)**(1/5)*std_init\n",
    "\n",
    "h_next = (4/3/n)**(1/5)*std_next\n",
    "\n",
    "h_init, h_next"
   ]
  },
  {
   "cell_type": "code",
   "execution_count": 26,
   "id": "0eb3a022-a57b-4592-805d-1d9f74179589",
   "metadata": {},
   "outputs": [],
   "source": [
    "xf = 1/((86-0)*(6-0)*(0.18+0.18)*(21-12)*(0.5+0.5)*(0.8+0.8)*(0.1+0.1))\n",
    "init_data_transposed = init_data.transpose()\n",
    "next_data_transposed = next_data.transpose()"
   ]
  },
  {
   "cell_type": "code",
   "execution_count": 27,
   "id": "910b73f7-6281-4d4a-a3e1-6ca3c4e4ab61",
   "metadata": {},
   "outputs": [],
   "source": [
    "# kerdenfunction\n",
    "\n",
    "def kerdenfunction(x_point, y_point, x, xf, y, hx_cv, hy_cv):\n",
    "    d = x.shape[0] # Generate the dimension of our study problem, x should be dxn\n",
    "    n = x.shape[1]\n",
    "    # print(d,n)\n",
    "    \n",
    "    f1 = 0\n",
    "    for i_ker in range(n):\n",
    "        f1 = f1 + ((n * np.prod(hx_cv) * np.prod(hy_cv))**(-1) * (2 * np.pi)**(-0.5*d) *\n",
    "             np.prod(np.exp(-((x_point - x[:, i_ker]) / hx_cv)**2 / 2)) *\n",
    "             np.prod(np.exp(-((y_point - y[:, i_ker]) / hy_cv)**2 / 2)))\n",
    "    store = f1 / xf\n",
    "    return store\n"
   ]
  },
  {
   "cell_type": "code",
   "execution_count": 28,
   "id": "bff8ed22-b494-4a55-9a0e-9026644c1e9e",
   "metadata": {},
   "outputs": [
    {
     "data": {
      "text/plain": [
       "0.0"
      ]
     },
     "execution_count": 28,
     "metadata": {},
     "output_type": "execute_result"
    }
   ],
   "source": [
    "\n",
    "kerdenfunction([1,2,0,13,0,0,0],[1,2,0,13,0,0,0],init_data_transposed, xf, next_data_transposed,h_init,h_next)"
   ]
  },
  {
   "cell_type": "code",
   "execution_count": null,
   "id": "fe5165f8-30f9-4318-9a80-b3ad92a9a14f",
   "metadata": {},
   "outputs": [],
   "source": [
    "import numpy as np\n",
    "from scipy.integrate import dblquad\n",
    "from itertools import product\n",
    "\n",
    "def prob_density(x, y):\n",
    "    return kerdenfunction(x,y,init_data_transposed,xf,next_data_transposed,h_init,h_next)   \n",
    "\n",
    "# Define the number of divisions in each axis\n",
    "nx = 10\n",
    "ny = 10\n",
    "\n",
    "# Define the range of x and y\n",
    "x_min, x_max = 0, 86\n",
    "y_min, y_max = 0, 6\n",
    "\n",
    "\n",
    "\n",
    "# Calculate the range of each subdivision\n",
    "x_range = np.linspace(x_min, x_max, nx+1)\n",
    "y_range = np.linspace(y_min, y_max, ny+1)\n",
    "\n",
    "# Store the probability value for each small area\n",
    "prob_matrix = np.zeros((nx, ny, nx, ny))\n",
    "\n",
    "# Iterate over all small regions and calculate the probability of the probability density function within the small region\n",
    "for i, j, k, l in product(range(nx), range(ny), range(nx), range(ny)):\n",
    "    # Calculate the range of values for the current small area\n",
    "    curr_x_range = (x_range[i], x_range[i+1])\n",
    "    curr_y_range = (y_range[j], y_range[j+1])\n",
    "    curr_xf = (curr_x_range[1] - curr_x_range[0]) * (curr_y_range[1] - curr_y_range[0])\n",
    "    \n",
    "    # Calculate the Le Berger integral\n",
    "    prob_matrix[i, j, k, l] = dblquad(prob_density, curr_x_range[0], curr_x_range[1],\n",
    "                                       lambda x: curr_y_range[0], lambda x: curr_y_range[1])[0] / curr_xf\n",
    "\n",
    "# Print results\n",
    "print(prob_matrix)\n"
   ]
  },
  {
   "cell_type": "code",
   "execution_count": 29,
   "id": "e581f9f0-3fef-4246-afd7-d53930addb2c",
   "metadata": {},
   "outputs": [
    {
     "ename": "MemoryError",
     "evalue": "Unable to allocate 728. TiB for an array with shape (10, 10, 10, 10, 10, 10, 10, 10, 10, 10, 10, 10, 10, 10) and data type float64",
     "output_type": "error",
     "traceback": [
      "\u001b[0;31m---------------------------------------------------------------------------\u001b[0m",
      "\u001b[0;31mMemoryError\u001b[0m                               Traceback (most recent call last)",
      "Cell \u001b[0;32mIn [29], line 24\u001b[0m\n\u001b[1;32m     21\u001b[0m y_range \u001b[38;5;241m=\u001b[39m [np\u001b[38;5;241m.\u001b[39mlinspace(y_min[i], y_max[i], ny[i]\u001b[38;5;241m+\u001b[39m\u001b[38;5;241m1\u001b[39m) \u001b[38;5;28;01mfor\u001b[39;00m i \u001b[38;5;129;01min\u001b[39;00m \u001b[38;5;28mrange\u001b[39m(\u001b[38;5;241m7\u001b[39m)]\n\u001b[1;32m     23\u001b[0m \u001b[38;5;66;03m# Store the probability value for each small area\u001b[39;00m\n\u001b[0;32m---> 24\u001b[0m prob_matrix \u001b[38;5;241m=\u001b[39m \u001b[43mnp\u001b[49m\u001b[38;5;241;43m.\u001b[39;49m\u001b[43mzeros\u001b[49m\u001b[43m(\u001b[49m\u001b[38;5;28;43mtuple\u001b[39;49m\u001b[43m(\u001b[49m\u001b[43mnx\u001b[49m\u001b[43m \u001b[49m\u001b[38;5;241;43m+\u001b[39;49m\u001b[43m \u001b[49m\u001b[43mny\u001b[49m\u001b[43m)\u001b[49m\u001b[43m)\u001b[49m\n\u001b[1;32m     26\u001b[0m \u001b[38;5;66;03m# Iterate over all small regions and calculate the probability of the probability density function within the small region\u001b[39;00m\n\u001b[1;32m     27\u001b[0m \u001b[38;5;28;01mfor\u001b[39;00m i, j, k, l, m, n, o \u001b[38;5;129;01min\u001b[39;00m product(\u001b[38;5;241m*\u001b[39m[\u001b[38;5;28mrange\u001b[39m(nx[i]) \u001b[38;5;28;01mfor\u001b[39;00m i \u001b[38;5;129;01min\u001b[39;00m \u001b[38;5;28mrange\u001b[39m(\u001b[38;5;241m7\u001b[39m)]):\n\u001b[1;32m     28\u001b[0m     \u001b[38;5;66;03m# Calculate the range of values for the current small area for each axis of the 7 arrays\u001b[39;00m\n",
      "\u001b[0;31mMemoryError\u001b[0m: Unable to allocate 728. TiB for an array with shape (10, 10, 10, 10, 10, 10, 10, 10, 10, 10, 10, 10, 10, 10) and data type float64"
     ]
    }
   ],
   "source": [
    "import numpy as np\n",
    "from scipy.integrate import nquad\n",
    "from itertools import product\n",
    "\n",
    "def prob_density(x,y):\n",
    "    return kerdenfunction(x, y, init_data_transposed, xf, next_data_transposed, h_init, h_next)\n",
    "\n",
    "# Define the number of divisions in each axis for the 7 arrays\n",
    "nx = [10]*7\n",
    "ny = [10]*7\n",
    "\n",
    "# Define the range of values for each axis of the 7 arrays\n",
    "x_min = [0]*7\n",
    "x_max = [86]*7\n",
    "\n",
    "y_min = [0]*7\n",
    "y_max = [6]*7\n",
    "\n",
    "# Calculate the range of each subdivision for each axis of the 7 arrays\n",
    "x_range = [np.linspace(x_min[i], x_max[i], nx[i]+1) for i in range(7)]\n",
    "y_range = [np.linspace(y_min[i], y_max[i], ny[i]+1) for i in range(7)]\n",
    "\n",
    "# Store the probability value for each small area\n",
    "prob_matrix = np.zeros(tuple(nx + ny))\n",
    "\n",
    "# Iterate over all small regions and calculate the probability of the probability density function within the small region\n",
    "for i, j, k, l, m, n, o in product(*[range(nx[i]) for i in range(7)]):\n",
    "    # Calculate the range of values for the current small area for each axis of the 7 arrays\n",
    "    curr_x_range = tuple((x_range[i][i_val], x_range[i][i_val+1]) for i, i_val in enumerate((i, j, k, l, m, n, o)))\n",
    "    curr_y_range = tuple((y_range[i][i_val], y_range[i][i_val+1]) for i, i_val in enumerate((i, j, k, l, m, n, o)))\n",
    "    curr_xf = np.prod([curr_x_range[i][1] - curr_x_range[i][0] for i in range(7)])\n",
    "    \n",
    "    # Calculate the n-dimensional Lebesgue integral\n",
    "    prob_matrix[i, j, k, l, m, n, o] = nquad(prob_density, [curr_x_range[i] for i in range(7)] + [curr_y_range[i] for i in range(7)])[0] / curr_xf\n",
    "\n",
    "# Print results\n",
    "print(prob_matrix)\n"
   ]
  },
  {
   "cell_type": "code",
   "execution_count": 171,
   "id": "5be30030-4d8d-4674-b006-046376cfed45",
   "metadata": {},
   "outputs": [],
   "source": [
    "def f(x1,y1,x2,y2,a,b,c):\n",
    "    print(\"yep\")\n",
    "    print(x1,y1,x2,y2,a,b,c)\n",
    "    return a+b+c\n",
    "\n",
    "x1_min, x1_max = 0, 1\n",
    "x2_min, x2_max = 0, 1\n",
    "y1_min, y1_max = 0, 1\n",
    "y2_min, y2_max = 0, 1\n",
    "\n",
    "\n",
    "\n",
    "a = b = c = 1\n",
    "\n",
    "\n",
    "# args_order = (0, 1, 2, 3)\n",
    "\n",
    "# result, error = nquad(f, [(x1_min, x1_max), (x2_min, x2_max), (y1_min, y1_max), (y2_min, y2_max)],args= (a,b,c,))\n",
    "                      \n",
    "\n",
    "# print(result)\n",
    "\n"
   ]
  },
  {
   "cell_type": "code",
   "execution_count": 118,
   "id": "4f58b64c-3a27-4673-8f95-7240ab77a2e9",
   "metadata": {},
   "outputs": [
    {
     "ename": "SyntaxError",
     "evalue": "invalid syntax (2508729293.py, line 8)",
     "output_type": "error",
     "traceback": [
      "\u001b[0;36m  Cell \u001b[0;32mIn [118], line 8\u001b[0;36m\u001b[0m\n\u001b[0;31m    for u in range\u001b[0m\n\u001b[0m                  ^\u001b[0m\n\u001b[0;31mSyntaxError\u001b[0m\u001b[0;31m:\u001b[0m invalid syntax\n"
     ]
    }
   ],
   "source": [
    "# cal max and min pro\n",
    "\n",
    "# x:[0,84]\n",
    "# y:[0,6]\n",
    "i_step = 4\n",
    "j_step = 2\n",
    "def calc():\n",
    "    \n",
    "        for i in range(0,84,i_step):\n",
    "            for j in range(0,6,j_step):\n",
    "                # now\n",
    "                # x:[i,i+i_step] y:[j,j+j_step]\n",
    "                \n",
    "                # to\n",
    "                # other all\n",
    "                \n",
    "                \n",
    "                x1_min, x1_max = i, i+i_step\n",
    "                x2_min, x2_max = j, j+j_step\n",
    "                \n",
    "                y1_min, y1_max = 0, 84\n",
    "                y2_min, y2_max = 0, 6\n",
    "                \n",
    "                args_order = (0, 1, 2, 3)\n",
    "                \n",
    "                x_point = [0,0,0,0,0,0,0]\n",
    "                y_point = [0,0,0,0,0,0,0]\n",
    "                # kerdenfunction(x_point,y_point, init_data_transposed, xf, next_data_transposed,h_init,h_next)\n",
    "                \n",
    "                result, error = nquad(kerdenfunction,  [(x1_min, x1_max), (x2_min, x2_max), (y1_min, y1_max), (y2_min, y2_max)],\n",
    "                      args=(arr1[0], arr1[1], arr2[0], arr2[1], init_data_tra)"
   ]
  },
  {
   "cell_type": "code",
   "execution_count": null,
   "id": "19d5a771-fc1b-4dc4-b205-1cf0a4a5689f",
   "metadata": {},
   "outputs": [],
   "source": []
  },
  {
   "cell_type": "markdown",
   "id": "596a055a-04ec-427d-a79d-64f4904420d9",
   "metadata": {},
   "source": [
    "### Compare with real data"
   ]
  },
  {
   "cell_type": "code",
   "execution_count": 1,
   "id": "3c0458df-e2ff-4e07-92b1-0bceafb93799",
   "metadata": {},
   "outputs": [],
   "source": [
    "tau = 0.001\n",
    "# gauss_noise_matrix = gauss_noise(np.zeros((n+1,7,1)),1,0.2)\n",
    "delta = 0.2\n",
    "        \n",
    "# def delta(x):\n",
    "#     if x == 0:\n",
    "#         return np.inf\n",
    "#     else:\n",
    "#         return 0"
   ]
  },
  {
   "cell_type": "code",
   "execution_count": 6,
   "id": "471302b2-613a-4c08-b4af-5a67ac7ab5f7",
   "metadata": {},
   "outputs": [
    {
     "data": {
      "text/plain": [
       "array([29.03826179,  3.88696108,  0.93189377, 14.69331688,  0.40503613,\n",
       "        0.30920791,  1.21971565])"
      ]
     },
     "execution_count": 6,
     "metadata": {},
     "output_type": "execute_result"
    }
   ],
   "source": [
    "# len(init_data)\n",
    "init_data[0]"
   ]
  },
  {
   "cell_type": "code",
   "execution_count": 8,
   "id": "4cc8e4df-ab83-4453-9740-cd61a5161ed7",
   "metadata": {},
   "outputs": [
    {
     "ename": "ValueError",
     "evalue": "The truth value of an array with more than one element is ambiguous. Use a.any() or a.all()",
     "output_type": "error",
     "traceback": [
      "\u001b[0;31m---------------------------------------------------------------------------\u001b[0m",
      "\u001b[0;31mValueError\u001b[0m                                Traceback (most recent call last)",
      "Cell \u001b[0;32mIn [8], line 19\u001b[0m\n\u001b[1;32m     16\u001b[0m         f \u001b[38;5;241m=\u001b[39m math\u001b[38;5;241m.\u001b[39msqrt(\u001b[38;5;241m2\u001b[39m)\u001b[38;5;241m/\u001b[39m(delta(x)\u001b[38;5;241m*\u001b[39mmath\u001b[38;5;241m.\u001b[39msqrt(math\u001b[38;5;241m.\u001b[39mpi))\u001b[38;5;241m*\u001b[39m\u001b[38;5;241m*\u001b[39m(\u001b[38;5;241m-\u001b[39m\u001b[38;5;241m2\u001b[39m\u001b[38;5;241m*\u001b[39m((y1\u001b[38;5;241m-\u001b[39mx1\u001b[38;5;241m-\u001b[39mtau\u001b[38;5;241m*\u001b[39mx[\u001b[38;5;241m3\u001b[39m]\u001b[38;5;241m*\u001b[39mmath\u001b[38;5;241m.\u001b[39mcos(x[\u001b[38;5;241m4\u001b[39m]\u001b[38;5;241m+\u001b[39mx[\u001b[38;5;241m6\u001b[39m]))\u001b[38;5;241m/\u001b[39mdelta(x))\u001b[38;5;241m*\u001b[39m\u001b[38;5;241m*\u001b[39m\u001b[38;5;241m2\u001b[39m)        \n\u001b[1;32m     18\u001b[0m \u001b[38;5;28;01mfor\u001b[39;00m i \u001b[38;5;129;01min\u001b[39;00m \u001b[38;5;28mrange\u001b[39m(\u001b[38;5;28mlen\u001b[39m(init_data)\u001b[38;5;241m-\u001b[39m\u001b[38;5;241m1\u001b[39m):\n\u001b[0;32m---> 19\u001b[0m     \u001b[43my1\u001b[49m\u001b[43m(\u001b[49m\u001b[43minit_data\u001b[49m\u001b[43m[\u001b[49m\u001b[43mi\u001b[49m\u001b[43m]\u001b[49m\u001b[43m)\u001b[49m\n",
      "Cell \u001b[0;32mIn [8], line 16\u001b[0m, in \u001b[0;36my1\u001b[0;34m(x)\u001b[0m\n\u001b[1;32m     13\u001b[0m     f \u001b[38;5;241m=\u001b[39m math\u001b[38;5;241m.\u001b[39msqrt(\u001b[38;5;241m2\u001b[39m)\u001b[38;5;241m/\u001b[39m(delta(x)\u001b[38;5;241m*\u001b[39mmath\u001b[38;5;241m.\u001b[39msqrt(math\u001b[38;5;241m.\u001b[39mpi))\u001b[38;5;241m*\u001b[39m\u001b[38;5;241m*\u001b[39m(\u001b[38;5;241m-\u001b[39m\u001b[38;5;241m2\u001b[39m\u001b[38;5;241m*\u001b[39m((y1\u001b[38;5;241m-\u001b[39mx1\u001b[38;5;241m-\u001b[39mtau\u001b[38;5;241m*\u001b[39mx[\u001b[38;5;241m3\u001b[39m]\u001b[38;5;241m*\u001b[39mmath\u001b[38;5;241m.\u001b[39mcos(x[\u001b[38;5;241m4\u001b[39m]))\u001b[38;5;241m/\u001b[39mdelta(x))\u001b[38;5;241m*\u001b[39m\u001b[38;5;241m*\u001b[39m\u001b[38;5;241m2\u001b[39m)\n\u001b[1;32m     14\u001b[0m \u001b[38;5;28;01melse\u001b[39;00m:\n\u001b[1;32m     15\u001b[0m     \u001b[38;5;66;03m# f = math.sqrt(2)/(delta(x)*math.sqrt(math.pi))**(-2*((y1-x1-tau*b1)/delta(x))**2)\u001b[39;00m\n\u001b[0;32m---> 16\u001b[0m     f \u001b[38;5;241m=\u001b[39m math\u001b[38;5;241m.\u001b[39msqrt(\u001b[38;5;241m2\u001b[39m)\u001b[38;5;241m/\u001b[39m(\u001b[43mdelta\u001b[49m\u001b[43m(\u001b[49m\u001b[43mx\u001b[49m\u001b[43m)\u001b[49m\u001b[38;5;241m*\u001b[39mmath\u001b[38;5;241m.\u001b[39msqrt(math\u001b[38;5;241m.\u001b[39mpi))\u001b[38;5;241m*\u001b[39m\u001b[38;5;241m*\u001b[39m(\u001b[38;5;241m-\u001b[39m\u001b[38;5;241m2\u001b[39m\u001b[38;5;241m*\u001b[39m((y1\u001b[38;5;241m-\u001b[39mx1\u001b[38;5;241m-\u001b[39mtau\u001b[38;5;241m*\u001b[39mx[\u001b[38;5;241m3\u001b[39m]\u001b[38;5;241m*\u001b[39mmath\u001b[38;5;241m.\u001b[39mcos(x[\u001b[38;5;241m4\u001b[39m]\u001b[38;5;241m+\u001b[39mx[\u001b[38;5;241m6\u001b[39m]))\u001b[38;5;241m/\u001b[39mdelta(x))\u001b[38;5;241m*\u001b[39m\u001b[38;5;241m*\u001b[39m\u001b[38;5;241m2\u001b[39m)\n",
      "Cell \u001b[0;32mIn [3], line 3\u001b[0m, in \u001b[0;36mdelta\u001b[0;34m(x)\u001b[0m\n\u001b[1;32m      2\u001b[0m \u001b[38;5;28;01mdef\u001b[39;00m \u001b[38;5;21mdelta\u001b[39m(x):\n\u001b[0;32m----> 3\u001b[0m     \u001b[38;5;28;01mif\u001b[39;00m x \u001b[38;5;241m==\u001b[39m \u001b[38;5;241m0\u001b[39m:\n\u001b[1;32m      4\u001b[0m         \u001b[38;5;28;01mreturn\u001b[39;00m np\u001b[38;5;241m.\u001b[39minf\n\u001b[1;32m      5\u001b[0m     \u001b[38;5;28;01melse\u001b[39;00m:\n",
      "\u001b[0;31mValueError\u001b[0m: The truth value of an array with more than one element is ambiguous. Use a.any() or a.all()"
     ]
    }
   ],
   "source": [
    "# x1\n",
    "# < 0.1\n",
    "# a1 = x4(k)cos(x5(k))\n",
    "# b1 = x4(k)cos(x5(k)+x7(k))\n",
    "\n",
    "# x: [,] 7-dim\n",
    "# x1:x[0]\n",
    "\n",
    "def y1(x,x_next):\n",
    "    if x[0]<0.1:\n",
    "        # f = math.sqrt(2)/(delta*math.sqrt(math.pi))*(math.e**(-2*((x_next[0]-x[0]-tau*a1)/delta)**2\n",
    "        f = math.sqrt(2)/(delta*math.sqrt(math.pi))*(math.e**(-2*((x_next[0]-x[0]-tau*x[3]*math.cos(x[4]))/delta)**2))\n",
    "    else:\n",
    "        TODO! later all not finished!!!\n",
    "        # f = math.sqrt(2)/(delta*math.sqrt(math.pi))*(math.e**(-2*((x_next[0]-x[0]-tau*b1)/delta)**2\n",
    "        f = math.sqrt(2)/(delta*math.sqrt(math.pi))*(math.e**(-2*((x_next[0]-x[0]-tau*b1**2))/delta**2))\n",
    "        \n",
    "for i in range(len(init_data)-1):\n",
    "    y1(init_data[i],init_data[i+1])"
   ]
  },
  {
   "cell_type": "code",
   "execution_count": null,
   "id": "2a71555a-3c70-4dc4-bd61-f3122902cf4b",
   "metadata": {},
   "outputs": [],
   "source": [
    "# x2\n",
    "# < 0.1\n",
    "def y2(x,x_next):\n",
    "    if x[1]<0.1:\n",
    "        # f = math.sqrt(2)/(delta*math.sqrt(math.pi))*(math.e**(-2*((x_next[1]-x[1]-tau*a2)/delta)**2\n",
    "        f = math.sqrt(2)/(delta*math.sqrt(math.pi))*(math.e**(-2*((x_next[1]-x[1]-tau*!!/delta)**2))\n",
    "    else:\n",
    "        TODO! later all not finished!!!\n",
    "        # f = math.sqrt(2)/(delta*math.sqrt(math.pi))*(math.e**(-2*((x_next[1]-x[1]-tau*b2)/delta)**2\n",
    "        f = math.sqrt(2)/(delta*math.sqrt(math.pi))*(math.e**(-2*((x_next[]-x[1]-tau*b2**2))/delta**2))"
   ]
  },
  {
   "cell_type": "code",
   "execution_count": null,
   "id": "fc972af7-94d1-4770-8a3d-48911cd8e26b",
   "metadata": {},
   "outputs": [],
   "source": [
    "# x3\n",
    "def y3(x,x_next):\n",
    "    # f = math.sqrt(2)/(delta*math.sqrt(math.pi))*(math.e**(-2*((x_next[2]-x[2]-tau*Sat1(V1))/delta)**2"
   ]
  },
  {
   "cell_type": "code",
   "execution_count": null,
   "id": "7aef230f-4dec-459d-b8b2-0b48d2acd4fb",
   "metadata": {},
   "outputs": [],
   "source": [
    "# x4\n",
    "def y4(x,x_next):\n",
    "    # f = math.sqrt(2)/(delta*math.sqrt(math.pi))*(math.e**(-2*((x_next[3]-x[3]-tau*Sat2(V2))/delta)**2"
   ]
  },
  {
   "cell_type": "code",
   "execution_count": null,
   "id": "d0b933aa-1f71-4656-bd13-7c7b0beb563f",
   "metadata": {},
   "outputs": [],
   "source": [
    "# x5\n",
    "# < 0.1\n",
    "def y5(x,x_next):\n",
    "    if x[4]<0.1:\n",
    "        # f = math.sqrt(2)/(delta*math.sqrt(math.pi))*(math.e**(-2*((x_next[4]-x[4]-tau*a5)/delta)**2\n",
    "    else:\n",
    "        TODO! later all not finished!!!\n",
    "        # f = math.sqrt(2)/(delta*math.sqrt(math.pi))*(math.e**(-2*((x_next[4]-x[4]-tau*b5)/delta)**2"
   ]
  },
  {
   "cell_type": "code",
   "execution_count": null,
   "id": "ffa7dd47-2715-4aff-930f-5198b0a7c337",
   "metadata": {},
   "outputs": [],
   "source": [
    "# x6\n",
    "# < 0.1\n",
    "def y6(x,x_next):\n",
    "    if x[5]<0.1:\n",
    "        # f = math.sqrt(2)/(delta*math.sqrt(math.pi))*(math.e**(-2*((x_next[5]-x[5]-tau*a6)/delta)**2\n",
    "    else:\n",
    "        # f = math.sqrt(2)/(delta*math.sqrt(math.pi))*(math.e**(-2*((x_next[5]-x[5]-tau*b6)/delta)**2"
   ]
  },
  {
   "cell_type": "code",
   "execution_count": null,
   "id": "7ab1eed5-4bf3-42f2-a84c-2cf1e3ae7928",
   "metadata": {},
   "outputs": [],
   "source": [
    "# x7\n",
    "# < 0.1\n",
    "def y7(x,x_next):\n",
    "    if x[6]<0.1:\n",
    "        # f = math.sqrt(2)/(delta*math.sqrt(math.pi))*(math.e**(-2*((x_next[6]-x[6]-tau*a7)/delta)**2\n",
    "    else:\n",
    "        # f = math.sqrt(2)/(delta*math.sqrt(math.pi))*(math.e**(-2*((x_next[6]-x[6]-tau*b7)/delta)**2"
   ]
  }
 ],
 "metadata": {
  "kernelspec": {
   "display_name": "Python [conda env:phd]",
   "language": "python",
   "name": "conda-env-phd-py"
  },
  "language_info": {
   "codemirror_mode": {
    "name": "ipython",
    "version": 3
   },
   "file_extension": ".py",
   "mimetype": "text/x-python",
   "name": "python",
   "nbconvert_exporter": "python",
   "pygments_lexer": "ipython3",
   "version": "3.9.15"
  }
 },
 "nbformat": 4,
 "nbformat_minor": 5
}
