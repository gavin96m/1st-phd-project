{
 "cells": [
  {
   "cell_type": "code",
   "execution_count": 2,
   "id": "07df43a2-819d-4a30-b277-100ff3b5564b",
   "metadata": {},
   "outputs": [],
   "source": [
    "import numpy as np\n",
    "from scipy.stats import multivariate_normal"
   ]
  },
  {
   "cell_type": "code",
   "execution_count": 15,
   "id": "4d143308-838d-4353-a033-4653f66980b2",
   "metadata": {},
   "outputs": [],
   "source": [
    "mean = [0,0,0,0,0,0,0]\n",
    "cov = [[1,0,0,0,0,0,0],[0,1,0,0,0,0,0],[0,0,1,0,0,0,0],[0,0,0,1,0,0,0],[0,0,0,0,1,0,0],[0,0,0,0,0,1,0],[0,0,0,0,0,0,1]]\n",
    "num_sample = 10\n",
    "random_seed = 42"
   ]
  },
  {
   "cell_type": "code",
   "execution_count": 16,
   "id": "0e01a1a6-af35-4cf3-b553-e99f4d5beb7d",
   "metadata": {},
   "outputs": [],
   "source": [
    "np.random.seed(random_seed)\n",
    "samples = multivariate_normal(mean=mean,cov=cov).rvs(num_sample)"
   ]
  },
  {
   "cell_type": "code",
   "execution_count": 17,
   "id": "d945df86-406f-43e5-b52e-a2367bade271",
   "metadata": {},
   "outputs": [
    {
     "data": {
      "text/plain": [
       "array([[ 0.49671415, -0.1382643 ,  0.64768854,  1.52302986, -0.23415337,\n",
       "        -0.23413696,  1.57921282],\n",
       "       [ 0.76743473, -0.46947439,  0.54256004, -0.46341769, -0.46572975,\n",
       "         0.24196227, -1.91328024],\n",
       "       [-1.72491783, -0.56228753, -1.01283112,  0.31424733, -0.90802408,\n",
       "        -1.4123037 ,  1.46564877],\n",
       "       [-0.2257763 ,  0.0675282 , -1.42474819, -0.54438272,  0.11092259,\n",
       "        -1.15099358,  0.37569802],\n",
       "       [-0.60063869, -0.29169375, -0.60170661,  1.85227818, -0.01349722,\n",
       "        -1.05771093,  0.82254491],\n",
       "       [-1.22084365,  0.2088636 , -1.95967012, -1.32818605,  0.19686124,\n",
       "         0.73846658,  0.17136828],\n",
       "       [-0.11564828, -0.3011037 , -1.47852199, -0.71984421, -0.46063877,\n",
       "         1.05712223,  0.34361829],\n",
       "       [-1.76304016,  0.32408397, -0.38508228, -0.676922  ,  0.61167629,\n",
       "         1.03099952,  0.93128012],\n",
       "       [-0.83921752, -0.30921238,  0.33126343,  0.97554513, -0.47917424,\n",
       "        -0.18565898, -1.10633497],\n",
       "       [-1.19620662,  0.81252582,  1.35624003, -0.07201012,  1.0035329 ,\n",
       "         0.36163603, -0.64511975]])"
      ]
     },
     "execution_count": 17,
     "metadata": {},
     "output_type": "execute_result"
    }
   ],
   "source": [
    "samples"
   ]
  },
  {
   "cell_type": "code",
   "execution_count": 19,
   "id": "c40983a9-bd52-434a-995e-caad6ff873cb",
   "metadata": {},
   "outputs": [
    {
     "data": {
      "text/plain": [
       "array([ 0.49671415, -0.1382643 ,  0.64768854,  1.52302986, -0.23415337,\n",
       "       -0.23413696,  1.57921282])"
      ]
     },
     "execution_count": 19,
     "metadata": {},
     "output_type": "execute_result"
    }
   ],
   "source": [
    "a = samples[0]\n",
    "a"
   ]
  },
  {
   "cell_type": "code",
   "execution_count": 23,
   "id": "0e2cfe3d-8f11-4d24-aa64-737eda9f46bc",
   "metadata": {},
   "outputs": [
    {
     "data": {
      "text/plain": [
       "[1.4967141530112327,\n",
       " 0.8617356988288154,\n",
       " 1.6476885381006925,\n",
       " 2.5230298564080256,\n",
       " 0.765846625276664,\n",
       " 0.7658630430508194,\n",
       " 2.5792128155073915]"
      ]
     },
     "execution_count": 23,
     "metadata": {},
     "output_type": "execute_result"
    }
   ],
   "source": [
    "list1 = [1,1,1,1,1,1,1]\n",
    "b = a+np.array(list1)\n",
    "b.tolist()"
   ]
  },
  {
   "cell_type": "code",
   "execution_count": null,
   "id": "38248fd6-6668-452f-9f03-7ba36ae4c50b",
   "metadata": {},
   "outputs": [],
   "source": []
  }
 ],
 "metadata": {
  "kernelspec": {
   "display_name": "Python 3 (ipykernel)",
   "language": "python",
   "name": "python3"
  },
  "language_info": {
   "codemirror_mode": {
    "name": "ipython",
    "version": 3
   },
   "file_extension": ".py",
   "mimetype": "text/x-python",
   "name": "python",
   "nbconvert_exporter": "python",
   "pygments_lexer": "ipython3",
   "version": "3.9.7"
  }
 },
 "nbformat": 4,
 "nbformat_minor": 5
}
