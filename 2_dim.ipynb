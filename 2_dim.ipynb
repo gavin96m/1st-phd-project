{
 "cells": [
  {
   "cell_type": "code",
   "execution_count": 2,
   "id": "2c0183cb-5435-4d0e-817f-2624b556c5c9",
   "metadata": {},
   "outputs": [],
   "source": [
    "import numpy as np\n",
    "import csv\n",
    "import random"
   ]
  },
  {
   "cell_type": "code",
   "execution_count": 3,
   "id": "0d4d9f60-cfc5-4432-b0dc-c5853d2e5156",
   "metadata": {},
   "outputs": [],
   "source": [
    "n = 100\n",
    "d = 2"
   ]
  },
  {
   "cell_type": "code",
   "execution_count": 4,
   "id": "e5b50f2e-8ff2-49d6-b891-e9fc825d61ca",
   "metadata": {},
   "outputs": [],
   "source": [
    "def gauss_noise(matrix,mu,sigma):\n",
    "    channel_size = len(matrix)\n",
    "    height = len(matrix[0])\n",
    "    width = len(matrix[0][0])\n",
    "    noise_matrix = np.random.normal(mu, sigma, size=[channel_size, height, width]).astype(np.float32)\n",
    "    # print(noise_matrix[1])\n",
    "    return noise_matrix"
   ]
  },
  {
   "cell_type": "code",
   "execution_count": 5,
   "id": "0d469236-98df-4ce7-9b76-5f02aa6e9ea9",
   "metadata": {},
   "outputs": [],
   "source": [
    "# function\n",
    "A = np.array([[0.4, 0.1],[0.0, 0.5]])\n",
    "# noise_matrix = gauss_noise(np.zeros((n+1,2,1)),1,0.2)\n",
    "\n",
    "# x_samlef=-3\n",
    "# x_samrig=3 \n",
    "# x_sample=np.random.rand(d, n+1) * (x_samrig - x_samlef) + x_samlef\n"
   ]
  },
  {
   "cell_type": "code",
   "execution_count": 6,
   "id": "16c0b844-a9b1-44d4-aafb-de49526d3257",
   "metadata": {},
   "outputs": [],
   "source": [
    "def f(x,noise):\n",
    "    return np.dot(A,x)+noise"
   ]
  },
  {
   "cell_type": "code",
   "execution_count": null,
   "id": "2a917f76-f9a7-4732-a320-4493acebb38c",
   "metadata": {},
   "outputs": [],
   "source": [
    "# noise_matrix[100][0]"
   ]
  },
  {
   "cell_type": "code",
   "execution_count": 9,
   "id": "dd3ca5b5-8d5d-4ce9-942a-3548588d2f85",
   "metadata": {},
   "outputs": [],
   "source": [
    "def init_sample():\n",
    "    x_0 = random.uniform(0,3)\n",
    "    x_1 = random.uniform(0,3)\n",
    "    return [x_0,x_1]"
   ]
  },
  {
   "cell_type": "code",
   "execution_count": 10,
   "id": "ed47064e-7616-4854-8d90-74aa5d1fd6a4",
   "metadata": {},
   "outputs": [],
   "source": [
    "# [1 1]\n",
    "def get_next(init_data,n_noise):\n",
    "    x_init = init_data\n",
    "    x_next = f(x_init,n_noise)\n",
    "    \n",
    "    \n",
    "    \n",
    "    return x_init,x_next"
   ]
  },
  {
   "cell_type": "code",
   "execution_count": 12,
   "id": "6b243e19-2aa9-4e6d-b3bb-f749d094c1c9",
   "metadata": {},
   "outputs": [
    {
     "name": "stdout",
     "output_type": "stream",
     "text": [
      "[1.48068611 1.72934795]\n",
      "[1.77872483 1.99935508]\n"
     ]
    }
   ],
   "source": [
    "def get_2step(n):\n",
    "    with open(\"2_dim.csv\",\"w\", newline='') as csvfile:\n",
    "        writer = csv.writer(csvfile)\n",
    "        writer.writerow([\"init\",\"next\"])\n",
    "        noise_matrix = gauss_noise(np.zeros((n+1,2,1)),1,0.2)\n",
    "       \n",
    "        for i in range(n):\n",
    "            x_init = init_sample()\n",
    "            n_noise = np.array(noise_matrix[n].tolist()).flatten().tolist()\n",
    "            \n",
    "            data = get_next(x_init,n_noise)\n",
    "            if i == 0:\n",
    "                # print\n",
    "                print(np.array(data[0]))\n",
    "                print(data[1])\n",
    "            writer.writerow([np.array(data[0]),data[1]])\n",
    "\n",
    "get_2step(100)            "
   ]
  }
 ],
 "metadata": {
  "kernelspec": {
   "display_name": "Python [conda env:phd]",
   "language": "python",
   "name": "conda-env-phd-py"
  },
  "language_info": {
   "codemirror_mode": {
    "name": "ipython",
    "version": 3
   },
   "file_extension": ".py",
   "mimetype": "text/x-python",
   "name": "python",
   "nbconvert_exporter": "python",
   "pygments_lexer": "ipython3",
   "version": "3.9.15"
  }
 },
 "nbformat": 4,
 "nbformat_minor": 5
}
