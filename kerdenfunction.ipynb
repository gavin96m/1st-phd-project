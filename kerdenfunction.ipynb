{
 "cells": [
  {
   "cell_type": "code",
   "execution_count": 1,
   "id": "6fac8b8c-6a2a-43d3-a47f-60a8d9d1166e",
   "metadata": {},
   "outputs": [],
   "source": [
    "# kerdenfunction\n",
    "import numpy as np\n",
    "\n",
    "def kerdenfunction(x, xf, y, hx_cv, hy_cv, x_point, y_point):\n",
    "    d = x.shape[0] # Generate the dimension of our study problem, x should be dxn\n",
    "    n = x.shape[1]\n",
    "    f1 = 0\n",
    "    for i_ker in range(n):\n",
    "        f1 = f1 + ((n * np.prod(hx_cv) * np.prod(hy_cv))**(-1) * (2 * np.pi)**(-0.5*d) *\n",
    "             np.prod(np.exp(-((x_point - x[:, i_ker]) / hx_cv)**2 / 2)) *\n",
    "             np.prod(np.exp(-((y_point - y[:, i_ker]) / hy_cv)**2 / 2)))\n",
    "    store = f1 / xf\n",
    "    return store\n"
   ]
  },
  {
   "cell_type": "code",
   "execution_count": 2,
   "id": "17f1568c-924c-4567-ad25-bab29d469ecb",
   "metadata": {},
   "outputs": [],
   "source": [
    "import numpy as np\n",
    "\n",
    "def objectivewithsystem_cv2dimens(X, Y, h_step):\n",
    "    n = X.shape[1]\n",
    "    d = len(h_step) // 2\n",
    "    xh = h_step[:d]\n",
    "    yh = h_step[d:2*d]\n",
    "    y1 = 0\n",
    "    y2 = 0\n",
    "    for i in range(n):\n",
    "        for j in range(n):\n",
    "            y1 = y1 + (n**(-2) * np.prod(xh) * np.prod(yh))**(-1) * (0.5)**(2*d) * (np.pi**(-0.5))**(2*d) * \\\n",
    "                np.prod(np.exp(-(1/4)*((X[:, j]-X[:, i])**2)*(xh**(-2)))) * \\\n",
    "                np.prod(np.exp(-(1/4)*((Y[:, j]-Y[:, i])**2)*(yh**(-2))))\n",
    "            if i == j:\n",
    "                y2 = y2 + 0\n",
    "            else:\n",
    "                y2 = y2 + 2 * ((n*(n-1)*np.prod(xh)*np.prod(yh))**(-1)) * ((2*np.pi)**(-0.5))**(2*d) * \\\n",
    "                    np.prod(np.exp(-(1/2)*((X[:, j]-X[:, i])**2)*(xh**(-2)))) * \\\n",
    "                    np.prod(np.exp(-(1/2)*((Y[:, j]-Y[:, i])**2)*(yh**(-2))))\n",
    "    y = y1 - y2\n",
    "    return y\n"
   ]
  }
 ],
 "metadata": {
  "kernelspec": {
   "display_name": "Python [conda env:phd]",
   "language": "python",
   "name": "conda-env-phd-py"
  },
  "language_info": {
   "codemirror_mode": {
    "name": "ipython",
    "version": 3
   },
   "file_extension": ".py",
   "mimetype": "text/x-python",
   "name": "python",
   "nbconvert_exporter": "python",
   "pygments_lexer": "ipython3",
   "version": "3.9.15"
  }
 },
 "nbformat": 4,
 "nbformat_minor": 5
}
